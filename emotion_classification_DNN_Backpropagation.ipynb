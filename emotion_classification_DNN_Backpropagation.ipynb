{
 "cells": [
  {
   "cell_type": "markdown",
   "metadata": {},
   "source": [
    "### Import Libraries"
   ]
  },
  {
   "cell_type": "code",
   "execution_count": 1,
   "metadata": {},
   "outputs": [],
   "source": [
    "import numpy as np\n",
    "import os\n",
    "from pathlib import Path\n",
    "from numpy import asarray\n",
    "from PIL import Image\n",
    "import scipy.linalg as la\n",
    "from  matplotlib import pyplot"
   ]
  },
  {
   "cell_type": "markdown",
   "metadata": {},
   "source": [
    "### Function to input Data"
   ]
  },
  {
   "cell_type": "code",
   "execution_count": 2,
   "metadata": {},
   "outputs": [],
   "source": [
    "def load_images_from_folder(folder):\n",
    "    listc = os.listdir(folder)\n",
    "    length = len(listc)\n",
    "    images=np.zeros((100*100,length))\n",
    "    i=0\n",
    "    for filename in listc:\n",
    "        image = Image.open(os.path.join(folder,filename))\n",
    "        data = asarray(image)\n",
    "        data = data[:100,:100]\n",
    "        for k in range(100*100):\n",
    "            images[k][i]=data[k%100][k//100]\n",
    "        if (filename[10:13]=='hap'):\n",
    "            listc[i]=1\n",
    "        if (filename[10:13]=='sad'):\n",
    "            listc[i]=0\n",
    "        i+=1\n",
    "    return images,listc"
   ]
  },
  {
   "cell_type": "markdown",
   "metadata": {},
   "source": [
    "### Perform PCA function"
   ]
  },
  {
   "cell_type": "code",
   "execution_count": 3,
   "metadata": {},
   "outputs": [],
   "source": [
    "from sklearn.decomposition import PCA\n",
    "from sklearn.preprocessing import StandardScaler\n",
    "\n",
    "def principal_component(features,k):\n",
    "    Tran_feature = features.T\n",
    "    scalar = StandardScaler()\n",
    "    scalar.fit(Tran_feature)\n",
    "    scaled_data = scalar.transform(Tran_feature)\n",
    "    pca = PCA(n_components=k)\n",
    "    pca.fit(scaled_data)\n",
    "    Y = (pca.transform(scaled_data)).T\n",
    "    return Y, pca, scalar"
   ]
  },
  {
   "cell_type": "markdown",
   "metadata": {},
   "source": [
    "### Softmax Function"
   ]
  },
  {
   "cell_type": "code",
   "execution_count": 4,
   "metadata": {},
   "outputs": [],
   "source": [
    "def softmax(y):\n",
    "    y = np.exp(y)\n",
    "    l = np.zeros(y.shape)\n",
    "    for i in range(len(y)):\n",
    "        l[i][0] = y[i]/sum(y)\n",
    "    return l"
   ]
  },
  {
   "cell_type": "markdown",
   "metadata": {},
   "source": [
    "### RELU Function"
   ]
  },
  {
   "cell_type": "code",
   "execution_count": 5,
   "metadata": {},
   "outputs": [],
   "source": [
    "def RELU(y):\n",
    "    l = np.zeros(y.shape)\n",
    "    for i in range(len(y)):\n",
    "        if y[i]<=0:\n",
    "            l[i]=0\n",
    "        else:\n",
    "            l[i]=y[i]\n",
    "    return l\n",
    "\n",
    "def derivative_RELU(y):\n",
    "    l = np.zeros(y.shape)\n",
    "    for i in range(len(y)):\n",
    "        if y[i]<=0:\n",
    "            l[i]=0\n",
    "        else:\n",
    "            l[i]=1\n",
    "    return l"
   ]
  },
  {
   "cell_type": "markdown",
   "metadata": {},
   "source": [
    "### Learning Function"
   ]
  },
  {
   "cell_type": "code",
   "execution_count": 6,
   "metadata": {},
   "outputs": [],
   "source": [
    "def DNNlearning(Y, label_train, nodes, learning_rate, max_iter, batch_size, momentum):\n",
    "    L = 2 # No_of_hidden_layers\n",
    "    # Parameters\n",
    "    W1 = np.random.uniform(0, 0.01, (nodes,Y.shape[0]))\n",
    "    W2 = np.random.uniform(0, 0.01, (nodes,nodes))\n",
    "    W3 = np.random.uniform(0, 0.01, (2,nodes))\n",
    "    b1 = np.random.uniform(0, 0.01, (nodes,1))\n",
    "    b2 = np.random.uniform(0, 0.01, (nodes,1))\n",
    "    b3 = np.random.uniform(0, 0.01, (2,1))\n",
    "\n",
    "    # Previous updates for using momentum\n",
    "    prev_W1 = np.zeros((nodes,n))\n",
    "    prev_W2 = np.zeros((nodes,nodes))\n",
    "    prev_W3 = np.zeros((2,nodes))\n",
    "    prev_b1 = np.zeros((nodes,1))\n",
    "    prev_b2 = np.zeros((nodes,1))\n",
    "    prev_b3 = np.zeros((2,1))\n",
    "\n",
    "    # Gradients\n",
    "    grad_W1 = np.zeros((nodes,n))\n",
    "    grad_W2 = np.zeros((nodes,nodes))\n",
    "    grad_W3 = np.zeros((2,nodes))\n",
    "    grad_b1 = np.zeros((nodes,1))\n",
    "    grad_b2 = np.zeros((nodes,1))\n",
    "    grad_b3 = np.zeros((2,1))\n",
    "\n",
    "    iter = 0\n",
    "\n",
    "    #used to take different set of images in a batch\n",
    "    of = 0 \n",
    "    # List to save error at each iteration of Grad Descent\n",
    "    error_list = []\n",
    "    while(iter<max_iter):\n",
    "        p=0\n",
    "        while p < 20:\n",
    "            k = (p+of)%20                 #to change the set of images in a batch \n",
    "    #         print(k)\n",
    "            if label_train[k] == 0:\n",
    "                e = np.array([[1],[0]])       #for calculating gradient w.r.t a3 \n",
    "            else:\n",
    "                e = np.array([[0],[1]])\n",
    "\n",
    "            #forward propogation\n",
    "            a1 = W1@Y[:,k:k+1]+b1\n",
    "            z1 = RELU(a1)\n",
    "            a2 = W2@z1+b2\n",
    "            z2 = RELU(a2)\n",
    "            a3 = W3@z2+b3\n",
    "            y_hat = softmax(a3)\n",
    "\n",
    "            #back propogation\n",
    "            grad1 = -(e-y_hat)   #grad w.r.t a3 \n",
    "            grad_W3 += grad1 @ z2.T\n",
    "            grad_b3 += grad1\n",
    "\n",
    "            grad2 = W3.T@grad1   #grad wrt z2\n",
    "            grad3 = np.zeros((len(grad2),1)) #grad wrt a2\n",
    "            inter = derivative_RELU(a2)\n",
    "            for i in range(len(grad2)):\n",
    "                grad3[i] = grad2[i]*inter[i] #grad wrt a2\n",
    "            grad_W2 += grad3 @ z1.T\n",
    "            grad_b2 += grad3\n",
    "\n",
    "            grad4 = W2.T@grad3   #grad wrt z1\n",
    "            grad5 = np.zeros((len(grad4),1)) #grad wrt a1\n",
    "            inter = derivative_RELU(a1)\n",
    "            for i in range(len(grad2)):\n",
    "                grad5[i] = grad4[i]*inter[i] #grad wrt a1\n",
    "\n",
    "            grad_W1 += grad5 @ Y[:,k:k+1].T\n",
    "            grad_b1 += grad5\n",
    "            #update wieghts\n",
    "            if p%batch_size == (batch_size-1):\n",
    "                W1 = W1 - (momentum*prev_W1 + learning_rate*grad_W1/batch_size)\n",
    "                W2 = W2 - (momentum*prev_W2 + learning_rate*grad_W2/batch_size)\n",
    "                W3 = W3 - (momentum*prev_W3 + learning_rate*grad_W3/batch_size)\n",
    "                b1 = b1 - (momentum*prev_b1 + learning_rate*grad_b1/batch_size)\n",
    "                b2 = b2 - (momentum*prev_b2 + learning_rate*grad_b2/batch_size)\n",
    "                b3 = b3 - (momentum*prev_b3 + learning_rate*grad_b3/batch_size)\n",
    "\n",
    "                prev_W1 = (momentum*prev_W1 + learning_rate*grad_W1)\n",
    "                prev_W2 = (momentum*prev_W2 + learning_rate*grad_W2)\n",
    "                prev_W3 = (momentum*prev_W3 + learning_rate*grad_W3)\n",
    "                prev_b1 = (momentum*prev_b1 + learning_rate*grad_b1)\n",
    "                prev_b2 = (momentum*prev_b2 + learning_rate*grad_b2)\n",
    "                prev_b3 = (momentum*prev_b3 + learning_rate*grad_b3)\n",
    "\n",
    "                grad_W1 = np.zeros((nodes,n))\n",
    "                grad_W2 = np.zeros((nodes,nodes))\n",
    "                grad_W3 = np.zeros((2,nodes))\n",
    "                grad_b1 = np.zeros((nodes,1))\n",
    "                grad_b2 = np.zeros((nodes,1))\n",
    "                grad_b3 = np.zeros((2,1))\n",
    "            p+=1\n",
    "\n",
    "        error = 0\n",
    "        for l in range(Y.shape[1]):\n",
    "            a1 = W1@Y[:,l:l+1]+b1\n",
    "            z1 = RELU(a1)\n",
    "            a2 = W2@z1+b2\n",
    "            z2 = RELU(a2)\n",
    "            a3 = W3@z2+b3\n",
    "            y_hat = softmax(a3)\n",
    "            error+= -(np.log(y_hat[label_train[l]]))\n",
    "        print(error)\n",
    "        error_list.append(error)\n",
    "        of+=1\n",
    "        iter+=1\n",
    "    \n",
    "    pyplot.plot(np.linspace(1,20,num=20),error_list)\n",
    "    pyplot.title(\"Plot for change in error with iterations\")\n",
    "    pyplot.show()\n",
    "    return W1, W2, W3, b1, b2, b3\n",
    "    "
   ]
  },
  {
   "cell_type": "markdown",
   "metadata": {},
   "source": [
    "### Prediction Function"
   ]
  },
  {
   "cell_type": "code",
   "execution_count": 7,
   "metadata": {},
   "outputs": [],
   "source": [
    "def prediction(Y_test, W1, W2, W3, b1, b2, b3):\n",
    "    prediction = []\n",
    "    for l in range(Y_test.shape[1]):\n",
    "        a1 = W1@Y_test[:,l:l+1]+b1\n",
    "        z1 = RELU(a1)\n",
    "        a2 = W2@z1+b2\n",
    "        z2 = RELU(a2)\n",
    "        a3 = W3@z2+b3\n",
    "        y_hat = softmax(a3)\n",
    "        if y_hat[0]>y_hat[1]:\n",
    "            prediction.append(0)\n",
    "        else:\n",
    "            prediction.append(1)\n",
    "    return prediction"
   ]
  },
  {
   "cell_type": "markdown",
   "metadata": {},
   "source": [
    "### Function to calculate Accuracy"
   ]
  },
  {
   "cell_type": "code",
   "execution_count": 8,
   "metadata": {},
   "outputs": [],
   "source": [
    "def accuracy(label_test, prediction):\n",
    "    accuracy = 0\n",
    "    for i in range(len(label_test)):\n",
    "        if prediction[i] == label_test[i]:\n",
    "            accuracy += 1\n",
    "    accuracy = accuracy * 100 / Y_test.shape[1]\n",
    "    return accuracy"
   ]
  },
  {
   "cell_type": "markdown",
   "metadata": {},
   "source": [
    "### Input Train Data"
   ]
  },
  {
   "cell_type": "code",
   "execution_count": 9,
   "metadata": {},
   "outputs": [],
   "source": [
    "image_path = Path('emotion_classification/train')\n",
    "images, label_train=load_images_from_folder(image_path.as_posix())"
   ]
  },
  {
   "cell_type": "markdown",
   "metadata": {},
   "source": [
    "### Input Test Data"
   ]
  },
  {
   "cell_type": "code",
   "execution_count": 10,
   "metadata": {},
   "outputs": [],
   "source": [
    "test_path = Path('emotion_classification/test')\n",
    "test, label_test=load_images_from_folder(test_path.as_posix())"
   ]
  },
  {
   "cell_type": "markdown",
   "metadata": {},
   "source": [
    "### Perform PCA on Train and Test data"
   ]
  },
  {
   "cell_type": "code",
   "execution_count": 11,
   "metadata": {},
   "outputs": [],
   "source": [
    "n = 12\n",
    "Y, pca, scalar = principal_component(images,n)\n",
    "scaled = scalar.transform(test.T)\n",
    "Y_test = (pca.transform(scaled)).T"
   ]
  },
  {
   "cell_type": "markdown",
   "metadata": {},
   "source": [
    "### Learning and Prediction using Deep Neural Network model "
   ]
  },
  {
   "cell_type": "markdown",
   "metadata": {},
   "source": [
    "### Nodes = 10 W/o momentum"
   ]
  },
  {
   "cell_type": "code",
   "execution_count": 12,
   "metadata": {
    "scrolled": true
   },
   "outputs": [
    {
     "name": "stdout",
     "output_type": "stream",
     "text": [
      "[13.80728434]\n",
      "[13.78203602]\n",
      "[13.76664811]\n",
      "[13.7419828]\n",
      "[13.6700114]\n",
      "[13.44991744]\n",
      "[11.81048302]\n",
      "[11.99391532]\n",
      "[11.19093374]\n",
      "[7.94979388]\n",
      "[5.79425862]\n",
      "[5.51901915]\n",
      "[5.03235774]\n",
      "[4.06771995]\n",
      "[3.57600272]\n",
      "[3.59813456]\n",
      "[3.74318994]\n",
      "[3.60129081]\n",
      "[3.52651419]\n",
      "[3.47705198]\n"
     ]
    },
    {
     "data": {
      "image/png": "[encoded data removed]",
      "text/plain": [
       "<Figure size 432x288 with 1 Axes>"
      ]
     },
     "metadata": {
      "needs_background": "light"
     },
     "output_type": "display_data"
    }
   ],
   "source": [
    "W1, W2, W3, b1, b2, b3 = DNNlearning(Y, label_train,nodes = 10, learning_rate = 0.14, max_iter = 20,\n",
    "                                     batch_size = 4, momentum = 0)"
   ]
  },
  {
   "cell_type": "markdown",
   "metadata": {},
   "source": [
    "### Testing"
   ]
  },
  {
   "cell_type": "code",
   "execution_count": 13,
   "metadata": {},
   "outputs": [
    {
     "name": "stdout",
     "output_type": "stream",
     "text": [
      "Accuracy on test data is 80.0%\n"
     ]
    }
   ],
   "source": [
    "predict = prediction(Y_test,W1, W2, W3, b1, b2, b3)\n",
    "accur = accuracy(label_test, predict)\n",
    "print(f'Accuracy on test data is {accur}%')"
   ]
  },
  {
   "cell_type": "markdown",
   "metadata": {},
   "source": [
    "### Nodes = 15 W/o momentum"
   ]
  },
  {
   "cell_type": "code",
   "execution_count": 20,
   "metadata": {},
   "outputs": [
    {
     "name": "stdout",
     "output_type": "stream",
     "text": [
      "[13.80190611]\n",
      "[13.76801544]\n",
      "[13.72495739]\n",
      "[13.5609081]\n",
      "[12.40580836]\n",
      "[11.20827111]\n",
      "[10.24706825]\n",
      "[6.28228018]\n",
      "[6.02221376]\n",
      "[5.08711913]\n",
      "[4.7860225]\n",
      "[4.32488624]\n",
      "[3.99634882]\n",
      "[3.81951194]\n",
      "[3.70673445]\n",
      "[3.62015807]\n",
      "[3.55107138]\n",
      "[3.49673776]\n",
      "[3.45382433]\n",
      "[3.41911228]\n"
     ]
    },
    {
     "data": {
      "image/png": "[encoded data removed]",
      "text/plain": [
       "<Figure size 432x288 with 1 Axes>"
      ]
     },
     "metadata": {
      "needs_background": "light"
     },
     "output_type": "display_data"
    }
   ],
   "source": [
    "W1, W2, W3, b1, b2, b3 = DNNlearning(Y, label_train,nodes = 15, learning_rate = 0.15, max_iter = 20,\n",
    "                                     batch_size = 4, momentum = 0)"
   ]
  },
  {
   "cell_type": "markdown",
   "metadata": {},
   "source": [
    "### Testing"
   ]
  },
  {
   "cell_type": "code",
   "execution_count": 21,
   "metadata": {},
   "outputs": [
    {
     "name": "stdout",
     "output_type": "stream",
     "text": [
      "Accuracy on test data is 80.0%\n"
     ]
    }
   ],
   "source": [
    "predict = prediction(Y_test,W1, W2, W3, b1, b2, b3)\n",
    "accur = accuracy(label_test, predict)\n",
    "print(f'Accuracy on test data is {accur}%')"
   ]
  },
  {
   "cell_type": "markdown",
   "metadata": {},
   "source": [
    "### Nodes = 10 With momentum"
   ]
  },
  {
   "cell_type": "code",
   "execution_count": 16,
   "metadata": {},
   "outputs": [
    {
     "name": "stdout",
     "output_type": "stream",
     "text": [
      "[13.84718913]\n",
      "[13.79936734]\n",
      "[13.76527607]\n",
      "[13.75821432]\n",
      "[13.75453038]\n",
      "[13.74815132]\n",
      "[13.7244445]\n",
      "[13.67224439]\n",
      "[13.49692486]\n",
      "[12.85629693]\n",
      "[10.9032699]\n",
      "[9.10266588]\n",
      "[8.57417992]\n",
      "[7.37826897]\n",
      "[9.78370352]\n",
      "[4.85946317]\n",
      "[6.1110617]\n",
      "[4.46081155]\n",
      "[2.19795064]\n",
      "[2.30842399]\n"
     ]
    },
    {
     "data": {
      "image/png": "[encoded data removed]",
      "text/plain": [
       "<Figure size 432x288 with 1 Axes>"
      ]
     },
     "metadata": {
      "needs_background": "light"
     },
     "output_type": "display_data"
    }
   ],
   "source": [
    "W1, W2, W3, b1, b2, b3 = DNNlearning(Y, label_train,nodes = 10, learning_rate = 0.0054, max_iter = 20,\n",
    "                                     batch_size = 4, momentum = 0.9)"
   ]
  },
  {
   "cell_type": "markdown",
   "metadata": {},
   "source": [
    "### Testing"
   ]
  },
  {
   "cell_type": "code",
   "execution_count": 17,
   "metadata": {},
   "outputs": [
    {
     "name": "stdout",
     "output_type": "stream",
     "text": [
      "Accuracy on test data is 100.0%\n"
     ]
    }
   ],
   "source": [
    "predict = prediction(Y_test,W1, W2, W3, b1, b2, b3)\n",
    "accur = accuracy(label_test, predict)\n",
    "print(f'Accuracy on test data is {accur}%')"
   ]
  },
  {
   "cell_type": "markdown",
   "metadata": {},
   "source": [
    "### Nodes = 15 With momentum"
   ]
  },
  {
   "cell_type": "code",
   "execution_count": 22,
   "metadata": {},
   "outputs": [
    {
     "name": "stdout",
     "output_type": "stream",
     "text": [
      "[13.85015354]\n",
      "[13.78873951]\n",
      "[13.72862388]\n",
      "[13.66075674]\n",
      "[13.4827764]\n",
      "[12.79412976]\n",
      "[10.77148071]\n",
      "[9.21222018]\n",
      "[8.32984212]\n",
      "[7.37207944]\n",
      "[6.21292306]\n",
      "[5.78585804]\n",
      "[3.41991856]\n",
      "[2.34112874]\n",
      "[1.73346262]\n",
      "[1.39396497]\n",
      "[1.16243037]\n",
      "[1.00678058]\n",
      "[0.89145592]\n",
      "[0.81090597]\n"
     ]
    },
    {
     "data": {
      "image/png": "[encoded data removed]",
      "text/plain": [
       "<Figure size 432x288 with 1 Axes>"
      ]
     },
     "metadata": {
      "needs_background": "light"
     },
     "output_type": "display_data"
    }
   ],
   "source": [
    "W1, W2, W3, b1, b2, b3 = DNNlearning(Y, label_train,nodes = 15, learning_rate = 0.0055, max_iter = 20,\n",
    "                                     batch_size = 4, momentum = 0.9)"
   ]
  },
  {
   "cell_type": "markdown",
   "metadata": {},
   "source": [
    "### Testing"
   ]
  },
  {
   "cell_type": "code",
   "execution_count": 23,
   "metadata": {},
   "outputs": [
    {
     "name": "stdout",
     "output_type": "stream",
     "text": [
      "Accuracy on test data is 100.0%\n"
     ]
    }
   ],
   "source": [
    "predict = prediction(Y_test,W1, W2, W3, b1, b2, b3)\n",
    "accur = accuracy(label_test, predict)\n",
    "print(f'Accuracy on test data is {accur}%')"
   ]
  },
  {
   "cell_type": "code",
   "execution_count": null,
   "metadata": {},
   "outputs": [],
   "source": []
  },
  {
   "cell_type": "code",
   "execution_count": null,
   "metadata": {},
   "outputs": [],
   "source": []
  }
 ],
 "metadata": {
  "kernelspec": {
   "display_name": "Python 3",
   "language": "python",
   "name": "python3"
  },
  "language_info": {
   "codemirror_mode": {
    "name": "ipython",
    "version": 3
   },
   "file_extension": ".py",
   "mimetype": "text/x-python",
   "name": "python",
   "nbconvert_exporter": "python",
   "pygments_lexer": "ipython3",
   "version": "3.8.5"
  }
 },
 "nbformat": 4,
 "nbformat_minor": 4
}
